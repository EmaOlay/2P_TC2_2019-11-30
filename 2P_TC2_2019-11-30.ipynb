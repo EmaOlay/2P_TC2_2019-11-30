{
 "cells": [
  {
   "cell_type": "markdown",
   "metadata": {},
   "source": [
    "# Punto 1\n",
    "## datos:\n",
    "Generador de corriente ideal.<br>\n",
    "$$F_c=50k$$\n",
    "$$R_g=10K\\Omega$$\n",
    "$$Z_{21}=\\frac{K*S^3}{S^3+3S^2+3S+1}$$\n",
    "En este caso el numerador es impar$\\rightarrow$ divido por la parte par del denominador.<br>\n",
    "$$Z_{21}=\\frac{\\frac{S^3}{3S^2+1}}{\\frac{S^3+3S}{3S^2+1}+1}=\\frac{Z_{21}}{Z_{11}+1}$$\n",
    "procedo a sintetizar Z11."
   ]
  },
  {
   "cell_type": "code",
   "execution_count": 6,
   "metadata": {},
   "outputs": [
    {
     "name": "stdout",
     "output_type": "stream",
     "text": [
      "Z11=\n",
      " 3      \n",
      "S  + 3⋅S\n",
      "────────\n",
      "   2    \n",
      "3⋅S  + 1\n",
      "Para empezar armo el cero en S=0 dando vuelta y sacando un inductor en derivacion\n",
      "Y11=1/Z11=\n",
      "   8⋅S        1 \n",
      "────────── + ───\n",
      "  ⎛ 2    ⎞   3⋅S\n",
      "3⋅⎝S  + 3⎠      \n",
      "El inductor vale 3 lo saco y doy vuelta\n",
      "Z2=\n",
      "3⋅S    9 \n",
      "─── + ───\n",
      " 8    8⋅S\n",
      "Saco el capacitor en serie y el inductor en derivacion\n"
     ]
    }
   ],
   "source": [
    "from scipy import signal\n",
    "from sympy import *\n",
    "import matplotlib.pyplot as plt\n",
    "import math as m\n",
    "#from splane import pzmap, grpDelay, bodePlot\n",
    "import numpy as np\n",
    "\n",
    "S=symbols('S')\n",
    "Z11=(S**3+3*S)/(3*S**2 +1)\n",
    "print(\"Z11=\")\n",
    "pprint((Z11))\n",
    "print(\"Para empezar armo el cero en S=0 dando vuelta y sacando un inductor en derivacion\")\n",
    "Y11=1/Z11\n",
    "print(\"Y11=1/Z11=\")\n",
    "pprint(apart(Y11))\n",
    "print(\"El inductor vale 3 lo saco y doy vuelta\")\n",
    "Y2=Y11-1/(3*S)\n",
    "Z2=1/Y2\n",
    "print(\"Z2=\")\n",
    "pprint(apart(Z2))\n",
    "print(\"Saco el capacitor en serie y el inductor en derivacion\")"
   ]
  },
  {
   "cell_type": "markdown",
   "metadata": {},
   "source": [
    "<img src=\"./sint_graf.jpeg\" align=\"center\" width=\"80%\" />\n",
    "<img src=\"./circuito.PNG\" align=\"center\" width=\"80%\" />\n",
    "<img src=\"./graf_veri.PNG\" align=\"center\" width=\"80%\" />"
   ]
  },
  {
   "cell_type": "code",
   "execution_count": 10,
   "metadata": {},
   "outputs": [
    {
     "name": "stdout",
     "output_type": "stream",
     "text": [
      "314159.2653589793\n",
      "R[ 1 ] valia 1 => 10000\n",
      "C[ 1 ] valia 0.8888888888888888 => 2.8294212105225836e-10\n",
      "L[ 1 ] valia 3 => 0.09549296585513721\n",
      "L[ 2 ] valia 0.375 => 0.011936620731892151\n"
     ]
    }
   ],
   "source": [
    "##########Constantes de Desnormalizacion#############\n",
    "N_z=10*10**3\n",
    "N_w=50*10**3 *2*m.pi\n",
    "#N_w=1#Pongo 1 porque es el numero que no pincha ni corta en la multi y la divi\n",
    "print(N_w)\n",
    "####Vector de resistencias Normalizadas#############\n",
    "#####Se debe inicializar con los valores de tus resistencias########\n",
    "R_n=[1]\n",
    "\n",
    "####Vector de resistencias Desnormalizadas##########\n",
    "R=[]\n",
    "for i in range(len(R_n)):\n",
    "    \n",
    "    R.append(R_n[i]*N_z)\n",
    "    print('R[',i+1,'] valia',R_n[i],'=>',R[i])\n",
    "\n",
    "####Vector de capacitores Normalizados#############\n",
    "#####Se debe inicializar con los valores de tus capacitores########\n",
    "C_n=[8/9]\n",
    "\n",
    "####Vector de Capacitores Desnormalizados##########\n",
    "\n",
    "C=[]\n",
    "for i in range(len(C_n)):\n",
    "    C.append(C_n[i]/N_z / N_w)\n",
    "    print('C[',i+1,'] valia',C_n[i],'=>',C[i])\n",
    "\n",
    "####Vector de inductores Normalizados#############\n",
    "#####Se debe inicializar con los valores de tus inductores########\n",
    "L_n=[3,3/8]\n",
    "\n",
    "####Vector de inductores Desnormalizados##########\n",
    "\n",
    "L=[]\n",
    "for i in range(len(L_n)):\n",
    "    L.append(L_n[i]*N_z/N_w)\n",
    "    print('L[',i+1,'] valia',L_n[i],'=>',L[i])"
   ]
  },
  {
   "cell_type": "markdown",
   "metadata": {},
   "source": [
    "# 1.b) Verifico por MAI\n",
    "\n",
    "Formulas a utilizar: $$\\frac{V_{mn}}{I_{mn}}=(-1)^{m+n+m+n}*\\frac{\\begin{vmatrix}\n",
    "Y_{mn}^{mn}\n",
    "\\end{vmatrix}}{\\begin{vmatrix}\n",
    "Y_{n}^{n}\n",
    "\\end{vmatrix}}$$\n",
    "Para los determinantes tenemos que tachar las columnas p y q y las filas m y n.\n",
    "$$V_2\\equiv V_{23}$$\n",
    "$$I_1\\equiv I_{13}$$\n",
    "$$MAI=\\begin{bmatrix}\n",
    "SC_1+\\frac{SL_1+R_1}{SL_1R_1} & -SC_1 & -\\frac{SL_1+R_1}{SL_1R_1}\\\\\n",
    "-SC_1 & SC_1 + \\frac{1}{SL_2} & -\\frac{1}{SL_2}\\\\\n",
    "-\\frac{SL_1+R_1}{SL_1R_1} & -\\frac{1}{SL_2} & \\frac{SL_1+R_1}{SL_1R_1}+\\frac{1}{SL_2}\n",
    "\\end{bmatrix}$$\n",
    "<u>En este caso particular al ser una matriz de 3x3 y tachar 2 columnas y dos filas nos queda un unico casillero</u>"
   ]
  },
  {
   "cell_type": "code",
   "execution_count": 15,
   "metadata": {},
   "outputs": [
    {
     "name": "stdout",
     "output_type": "stream",
     "text": [
      "MAI=\n",
      "⎡                      3⋅S + 1                               -3⋅S - 1   ⎤\n",
      "⎢0.888888888888889⋅S + ───────    -0.888888888888889⋅S       ────────   ⎥\n",
      "⎢                        3⋅S                                   3⋅S      ⎥\n",
      "⎢                                                                       ⎥\n",
      "⎢                                                      8        -8      ⎥\n",
      "⎢    -0.888888888888889⋅S       0.888888888888889⋅S + ───       ───     ⎥\n",
      "⎢                                                     3⋅S       3⋅S     ⎥\n",
      "⎢                                                                       ⎥\n",
      "⎢          -3⋅S - 1                        -8              3⋅S + 1    8 ⎥\n",
      "⎢          ────────                        ───             ─────── + ───⎥\n",
      "⎣            3⋅S                           3⋅S               3⋅S     3⋅S⎦\n",
      "V2=\n",
      "-0.888888888888889⋅S\n",
      "I1=\n",
      "⎡                      3⋅S + 1                           ⎤\n",
      "⎢0.888888888888889⋅S + ───────    -0.888888888888889⋅S   ⎥\n",
      "⎢                        3⋅S                             ⎥\n",
      "⎢                                                        ⎥\n",
      "⎢                                                      8 ⎥\n",
      "⎢    -0.888888888888889⋅S       0.888888888888889⋅S + ───⎥\n",
      "⎣                                                     3⋅S⎦\n",
      "TF=\n",
      "                  3            \n",
      "             8.0⋅S             \n",
      "───────────────────────────────\n",
      "     3         2               \n",
      "8.0⋅S  + 24.0⋅S  + 24.0⋅S + 8.0\n"
     ]
    }
   ],
   "source": [
    "MAI=Matrix(([S*(8/9)+(S*3+1)/(S*3),-S*(8/9),-(S*3+1)/(S*3)],\n",
    "            [-S*(8/9),S*(8/9)+1/(S*3/8),-1/(S*3/8)],\n",
    "            [-(S*3+1)/(S*3),-1/(S*3/8),1/(S*3/8)+(S*3+1)/(S*3)]))\n",
    "print(\"MAI=\")\n",
    "pprint(MAI)\n",
    "V2=MAI[3]\n",
    "MAI2=MAI\n",
    "MAI2.row_del(2)\n",
    "MAI2.col_del(2)\n",
    "I1=MAI2\n",
    "print(\"V2=\")\n",
    "pprint(V2)\n",
    "print(\"I1=\")\n",
    "pprint(I1)\n",
    "Tf=(-1)**(2+3+1+3)*(V2)/(I1.det())\n",
    "print(\"TF=\")\n",
    "pprint(simplify(Tf))"
   ]
  },
  {
   "cell_type": "markdown",
   "metadata": {},
   "source": [
    "# 2.a)\n",
    "Parametros del cuad A:<br>\n",
    "$$I_{1A}=Y_{11A}V1+Y_{12A}V2$$\n",
    "$$I_{2A}=Y_{21A}V1+Y_{22A}V2$$\n",
    "Parametros del cuad B:<br>\n",
    "$$I_{1B}=Y_{11B}V1+Y_{12B}V2$$\n",
    "$$I_{2B}=Y_{21B}V1+Y_{22B}V2$$\n",
    "Y las caracteristicas del INIC:<br>\n",
    "$$I_{2INIC}=KI_{1INIC}$$\n",
    "Y por como esta conectado:<br>\n",
    "$$I_{1INIC}=-I_{2A};I_{2INIC}=-I_{2B}$$\n",
    "Reemplazando:<br>\n",
    "$$-I_{2B}=K(-I_{2A})\\rightarrow I_{2B}=KI_{2A}$$\n",
    "Reemplazo las ecuaciones de los cuadripolos:<br>\n",
    "$$Y_{21B}V1+Y_{22B}V2=K(Y_{21A}V1+Y_{22A}V2)$$\n",
    "Agrupo V1 y V2 de cada lado:<br>\n",
    "$$V2(Y_{22B}-KY_{22A})=V1(KY_{21A}-Y_{21B})$$\n",
    "Paso dividiendo:<br>\n",
    "$$\\frac{V2}{V1}=\\frac{(KY_{21A}-Y_{21B})}{(Y_{22B}-KY_{22A})}\\equiv \\frac{(Y_{21B}-KY_{21A})}{(KY_{22A}-Y_{22B})}$$\n",
    "# 2.b)\n",
    "Nos piden sintetizar:<br>\n",
    "$$\\frac{V2}{V1}=\\frac{S^2+4}{S^3+2S^2+2S+1}$$\n",
    "propongo armar algo como:<br>\n",
    "$$\\frac{\\frac{S^2+4}{Q_{(S)}}}{\\frac{S^3+2S^2+2S}{Q_{(S)}}+\\frac{1}{Q_{(S)}}}$$\n",
    "Y $Q_{(S)}=(S+1)(S+3)$.<br>\n",
    "E intento sintetizar una admitancia RC.\n",
    "Con las ecuaciones:<br>\n",
    "$$NUMERADOR=-Y_{1B}+Y_{1A}$$\n",
    "$$DENOMINADOR=Y_{2A}+Y_{1A}-(Y_{1B}+Y_{2B})$$\n",
    "Esto ultimo sale de plantear que los cuadripolos seran L-invertida."
   ]
  },
  {
   "cell_type": "code",
   "execution_count": 40,
   "metadata": {},
   "outputs": [
    {
     "name": "stdout",
     "output_type": "stream",
     "text": [
      "(S + 1)⋅(S + 2)\n",
      "Todos deben ser positivos asique los negativos simplemente se los atribuyo a -Y1B\n"
     ]
    }
   ],
   "source": [
    "Q=(S+1)*(S+2)\n",
    "Numerador=(1)/(Q)\n",
    "pprint(apart(1/Numerador))\n",
    "print(\"Todos deben ser positivos asique los negativos simplemente se los atribuyo a -Y1B\")\n"
   ]
  },
  {
   "cell_type": "code",
   "execution_count": null,
   "metadata": {},
   "outputs": [],
   "source": []
  }
 ],
 "metadata": {
  "kernelspec": {
   "display_name": "Python 3",
   "language": "python",
   "name": "python3"
  },
  "language_info": {
   "codemirror_mode": {
    "name": "ipython",
    "version": 3
   },
   "file_extension": ".py",
   "mimetype": "text/x-python",
   "name": "python",
   "nbconvert_exporter": "python",
   "pygments_lexer": "ipython3",
   "version": "3.7.6"
  }
 },
 "nbformat": 4,
 "nbformat_minor": 4
}
